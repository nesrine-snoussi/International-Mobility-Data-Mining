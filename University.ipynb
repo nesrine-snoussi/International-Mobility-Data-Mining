{
 "cells": [
  {
   "cell_type": "code",
   "execution_count": 4,
   "id": "04a3cdab",
   "metadata": {},
   "outputs": [
    {
     "name": "stdout",
     "output_type": "stream",
     "text": [
      "Index(['first_name', 'last_name', 'gender', 'age', 'gpa', 'field_of_study',\n",
      "       'phone_number', 'email'],\n",
      "      dtype='object')\n"
     ]
    },
    {
     "data": {
      "text/plain": [
       "Ellipsis"
      ]
     },
     "execution_count": 4,
     "metadata": {},
     "output_type": "execute_result"
    }
   ],
   "source": [
    "import pandas as pd\n",
    "\n",
    "# Charger le fichier CSV dans un dataframe pandas\n",
    "df = pd.read_csv('students2.csv')\n",
    "\n",
    "print(df.columns)\n",
    "# Sélectionner les colonnes pertinentes pour l'analyse\n",
    "selected_columns = ['age', 'gpa', 'field_of_study', 'gender']\n",
    "\n",
    "df = df[selected_columns]\n",
    "\n",
    "# Appliquer une analyse sémantique pour extraire des informations utiles\n",
    "...\n"
   ]
  },
  {
   "cell_type": "code",
   "execution_count": 7,
   "id": "36e62eb9",
   "metadata": {},
   "outputs": [
    {
     "name": "stdout",
     "output_type": "stream",
     "text": [
      "Précision : 0.5\n"
     ]
    }
   ],
   "source": [
    "from sklearn import svm\n",
    "from sklearn.model_selection import train_test_split\n",
    "from sklearn.metrics import accuracy_score\n",
    "import pandas as pd\n",
    "from sklearn.preprocessing import LabelEncoder\n",
    "\n",
    "# Charger le fichier CSV dans un dataframe pandas\n",
    "df = pd.read_csv('students2.csv')\n",
    "\n",
    "le = LabelEncoder()\n",
    "df['field_of_study'] = le.fit_transform(df['field_of_study'])\n",
    "# Sélectionner les colonnes pertinentes pour la classification\n",
    "selected_columns = ['age', 'gpa', 'field_of_study', 'gender']\n",
    "\n",
    "df = df[selected_columns]\n",
    "\n",
    "# Diviser les données en ensembles de formation et de test\n",
    "X_train, X_test, y_train, y_test = train_test_split(df.drop('gender', axis=1), df['gender'], test_size=0.2)\n",
    "\n",
    "# Créer un classificateur SVM et l'entraîner sur les données de formation\n",
    "clf = svm.SVC(kernel='linear')\n",
    "clf.fit(X_train, y_train)\n",
    "\n",
    "# Faire des prédictions sur les données de test et calculer la précision\n",
    "y_pred = clf.predict(X_test)\n",
    "accuracy = accuracy_score(y_test, y_pred)\n",
    "\n",
    "print('Précision :', accuracy)\n"
   ]
  },
  {
   "cell_type": "code",
   "execution_count": 12,
   "id": "2133333d",
   "metadata": {},
   "outputs": [
    {
     "data": {
      "image/png": "[encoded data removed]",
      "text/plain": [
       "<Figure size 432x288 with 1 Axes>"
      ]
     },
     "metadata": {
      "needs_background": "light"
     },
     "output_type": "display_data"
    }
   ],
   "source": [
    "import pandas as pd\n",
    "from sklearn.cluster import AgglomerativeClustering\n",
    "from sklearn.preprocessing import StandardScaler\n",
    "import matplotlib.pyplot as plt\n",
    "\n",
    "# Charger le fichier CSV dans un dataframe pandas\n",
    "df = pd.read_csv('mobility_offers.csv')\n",
    "le = LabelEncoder()\n",
    "df['Country'] = le.fit_transform(df['Country'])\n",
    "\n",
    "le = LabelEncoder()\n",
    "df['Offer Type'] = le.fit_transform(df['Offer Type'])\n",
    "\n",
    "le = LabelEncoder()\n",
    "df['Eligibility Criteria'] = le.fit_transform(df['Eligibility Criteria'])\n",
    "\n",
    "le = LabelEncoder()\n",
    "df['Option to Study Later'] = le.fit_transform(df['Option to Study Later'])\n",
    "\n",
    "# Sélectionner les colonnes pertinentes pour le clustering\n",
    "selected_columns = ['Country', 'Offer Type', 'Option to Study Later', 'Eligibility Criteria']\n",
    "\n",
    "df = df[selected_columns]\n",
    "\n",
    "# Normaliser les données\n",
    "scaler = StandardScaler()\n",
    "df_norm = scaler.fit_transform(df)\n",
    "\n",
    "# Créer un modèle de clustering avec CAH\n",
    "model = AgglomerativeClustering(n_clusters=3)\n",
    "\n",
    "# Faire du clustering sur les données normalisées\n",
    "clusters = model.fit_predict(df_norm)\n",
    "\n",
    "# Afficher le résultat du clustering dans un graphique en 2D\n",
    "plt.scatter(df_norm[:,0], df_norm[:,1], c=clusters)\n",
    "plt.show()"
   ]
  },
  {
   "cell_type": "code",
   "execution_count": 8,
   "id": "786cb679",
   "metadata": {},
   "outputs": [
    {
     "name": "stdout",
     "output_type": "stream",
     "text": [
      "Index(['Offer Title', 'Offered By', 'Country', 'Offer Description',\n",
      "       'Offer Type', 'Offer Amount', 'Application Deadline',\n",
      "       'Eligibility Criteria', 'Option to Study Later'],\n",
      "      dtype='object')\n"
     ]
    }
   ],
   "source": [
    "import pandas as pd\n",
    "\n",
    "\n",
    "# Charger le fichier CSV dans un dataframe pandas\n",
    "df = pd.read_csv('mobility_offers.csv')\n",
    "\n",
    "print(df.columns)"
   ]
  },
  {
   "cell_type": "code",
   "execution_count": null,
   "id": "6d76257b",
   "metadata": {},
   "outputs": [],
   "source": []
  }
 ],
 "metadata": {
  "kernelspec": {
   "display_name": "Python 3 (ipykernel)",
   "language": "python",
   "name": "python3"
  },
  "language_info": {
   "codemirror_mode": {
    "name": "ipython",
    "version": 3
   },
   "file_extension": ".py",
   "mimetype": "text/x-python",
   "name": "python",
   "nbconvert_exporter": "python",
   "pygments_lexer": "ipython3",
   "version": "3.9.7"
  }
 },
 "nbformat": 4,
 "nbformat_minor": 5
}
